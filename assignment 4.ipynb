{
 "cells": [
  {
   "cell_type": "markdown",
   "id": "f8bd0a70-7705-4888-8d99-fe878fa6b01c",
   "metadata": {},
   "source": [
    "Q1. Explain Class and Object with respect to Object-Oriented Programming. Give a suitable example."
   ]
  },
  {
   "cell_type": "markdown",
   "id": "3467f5bd-2bb3-44c8-a704-2e7d9fd5717c",
   "metadata": {},
   "source": [
    "Ans 1 ---"
   ]
  },
  {
   "cell_type": "markdown",
   "id": "d86499f8-0435-417d-a996-ad16d4eaa4af",
   "metadata": {},
   "source": [
    " A Class is like an object constructor, or a \"blueprint\" for creating objects.\n",
    " \n",
    " class is nothing but just a classification.\n",
    "    \n",
    " object is real world intity. \n",
    " object also claeed a variable."
   ]
  },
  {
   "cell_type": "code",
   "execution_count": 1,
   "id": "126c727f-ba9e-4a01-876c-9cc842bf3cde",
   "metadata": {},
   "outputs": [],
   "source": [
    "s = 3"
   ]
  },
  {
   "cell_type": "markdown",
   "id": "71f2b05d-726b-407c-812b-42ddb269aecf",
   "metadata": {},
   "source": [
    "'s' is a object where 's' is a object of an integer."
   ]
  },
  {
   "cell_type": "code",
   "execution_count": 3,
   "id": "31024717-5d95-425b-80ef-bbb344d916c6",
   "metadata": {},
   "outputs": [],
   "source": [
    "class aditya:\n",
    "    pass"
   ]
  },
  {
   "cell_type": "markdown",
   "id": "64c75df8-8b35-44cb-acab-bf169f39b13f",
   "metadata": {},
   "source": [
    "Q2. Name the four pillars of OOPs ?"
   ]
  },
  {
   "cell_type": "markdown",
   "id": "d229273e-689d-4808-96b2-2115404a8b7d",
   "metadata": {},
   "source": [
    "Ans 2 ---"
   ]
  },
  {
   "cell_type": "markdown",
   "id": "a1ec08eb-f56d-40dd-972d-5cf8b1fad1da",
   "metadata": {},
   "source": [
    "Encapsulation , \n",
    "Inheritance. , Polymorphism , \n",
    "Abstraction"
   ]
  },
  {
   "cell_type": "markdown",
   "id": "92fcedd7-17d0-45e1-b577-5c2894f564c2",
   "metadata": {},
   "source": [
    "Q3. Explain why the __init()__ function is used. Give a suitable example ?"
   ]
  },
  {
   "cell_type": "markdown",
   "id": "7f429a3e-f9f6-46eb-92e4-119b2efa60bc",
   "metadata": {},
   "source": [
    " This method is called when an object is created from a class and it allows the class to initialize the attributes of the class.\n",
    " when collecting data of student than we use __init__() function.   EXAMPLE :"
   ]
  },
  {
   "cell_type": "code",
   "execution_count": 20,
   "id": "df4a9941-cb9a-4154-8fd1-cbc706982197",
   "metadata": {},
   "outputs": [],
   "source": [
    "class aditya():\n",
    "    def __init__(self , mobile_number , gmail_id):\n",
    "        self.mobile_number = mobile_number\n",
    "        self.gmail_id = gmail_id \n",
    "    \n",
    "    def return_student_information (self):\n",
    "        return self.mobile_number , self.gmail_id\n",
    "        "
   ]
  },
  {
   "cell_type": "code",
   "execution_count": 14,
   "id": "35998f36-7068-48cb-a7c9-776a2ee529ef",
   "metadata": {},
   "outputs": [],
   "source": [
    "aditya1 = aditya(2342424351 , 'aditya@gmail.com')"
   ]
  },
  {
   "cell_type": "code",
   "execution_count": 15,
   "id": "aa285976-63ea-493e-8fd5-e4a0a5997cc8",
   "metadata": {},
   "outputs": [
    {
     "data": {
      "text/plain": [
       "(2342424351, 'aditya@gmail.com')"
      ]
     },
     "execution_count": 15,
     "metadata": {},
     "output_type": "execute_result"
    }
   ],
   "source": [
    "aditya1.return_student_information()"
   ]
  },
  {
   "cell_type": "code",
   "execution_count": 16,
   "id": "ef7e7844-fa06-4df9-8c4a-3f8ca2085024",
   "metadata": {},
   "outputs": [
    {
     "data": {
      "text/plain": [
       "'aditya@gmail.com'"
      ]
     },
     "execution_count": 16,
     "metadata": {},
     "output_type": "execute_result"
    }
   ],
   "source": [
    "aditya1.gmail_id"
   ]
  },
  {
   "cell_type": "code",
   "execution_count": 19,
   "id": "e03c5b34-31d3-4b36-b518-ece059d9129d",
   "metadata": {},
   "outputs": [
    {
     "data": {
      "text/plain": [
       "2342424351"
      ]
     },
     "execution_count": 19,
     "metadata": {},
     "output_type": "execute_result"
    }
   ],
   "source": [
    "aditya1.mobile_number"
   ]
  },
  {
   "cell_type": "markdown",
   "id": "e51dbe56-b929-4d1b-b314-3ade4feb24b5",
   "metadata": {},
   "source": [
    "Q4. Why self is used in OOPs?"
   ]
  },
  {
   "cell_type": "markdown",
   "id": "1b629bdc-57db-47c5-a58c-296f22d7fbb2",
   "metadata": {},
   "source": [
    "Ans 4 ---"
   ]
  },
  {
   "cell_type": "markdown",
   "id": "8780713a-4ffe-484f-9bdb-7d56b6c9bbd1",
   "metadata": {},
   "source": [
    "The self is used to represent the instance of the class."
   ]
  },
  {
   "cell_type": "markdown",
   "id": "5be82483-ac4d-493b-ab40-de16dc94418d",
   "metadata": {},
   "source": [
    "EXAMPLE :--"
   ]
  },
  {
   "cell_type": "raw",
   "id": "c45f6125-a56e-4745-9403-bc02d84a9180",
   "metadata": {},
   "source": [
    "class aditya():\n",
    "    def __init__(self , mobile_number , gmail_id):\n",
    "        self.mobile_number = mobile_number\n",
    "        self.gmail_id = gmail_id \n",
    "    \n",
    "    def return_student_information (self):\n",
    "        return self.mobile_number , self.gmail_id"
   ]
  },
  {
   "cell_type": "markdown",
   "id": "62a2243b-68ab-4d75-abe0-749d3d91b46d",
   "metadata": {},
   "source": [
    "when we write a class code than we use self because self used to repersent instance of class.\n",
    "basically when write code of class and than we put the value in code like this \n",
    "\n",
    "aditya1 = aditya(2342424351 , 'aditya@gmail.com')\n",
    "\n",
    "I put the number and gmail id in the code after execute the code \n",
    "the mobile_number is going in def __init__(self , mobile_number , gmail_id) \n",
    "\n",
    "and than go in self.mobile_number = mobile_number\n",
    "\n",
    "at this time self is connected mobile_number to class function \n",
    "\n",
    "and than return result for us."
   ]
  },
  {
   "cell_type": "markdown",
   "id": "4c7021df-2912-4df4-b320-f719680e21b9",
   "metadata": {},
   "source": [
    "Q5. What is inheritance? Give an example for each type of inheritance ?"
   ]
  },
  {
   "cell_type": "markdown",
   "id": "8e7da7de-0368-4b84-b44c-3b671577570d",
   "metadata": {},
   "source": [
    "Ans 5 ---"
   ]
  },
  {
   "cell_type": "markdown",
   "id": "cccfd669-8db1-42e3-b4c8-9d0339a6a970",
   "metadata": {},
   "source": [
    "Inheritance is a mechanism in which one class acquires the property of another class."
   ]
  },
  {
   "cell_type": "code",
   "execution_count": null,
   "id": "660803e4-db7e-4e4a-b65a-10f38ec8d583",
   "metadata": {},
   "outputs": [],
   "source": [
    "EXAPLE :--   sub-class or sub-"
   ]
  }
 ],
 "metadata": {
  "kernelspec": {
   "display_name": "Python 3 (ipykernel)",
   "language": "python",
   "name": "python3"
  },
  "language_info": {
   "codemirror_mode": {
    "name": "ipython",
    "version": 3
   },
   "file_extension": ".py",
   "mimetype": "text/x-python",
   "name": "python",
   "nbconvert_exporter": "python",
   "pygments_lexer": "ipython3",
   "version": "3.10.8"
  }
 },
 "nbformat": 4,
 "nbformat_minor": 5
}
